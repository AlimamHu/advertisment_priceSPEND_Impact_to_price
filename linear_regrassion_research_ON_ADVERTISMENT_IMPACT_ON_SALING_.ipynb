{
  "nbformat": 4,
  "nbformat_minor": 0,
  "metadata": {
    "colab": {
      "name": "linear regrassion  research ON ADVERTISMENT IMPACT ON SALING .ipynb",
      "provenance": [],
      "authorship_tag": "ABX9TyN36QLpLTzDbNFtsSvLpyoa",
      "include_colab_link": true
    },
    "kernelspec": {
      "name": "python3",
      "display_name": "Python 3"
    },
    "language_info": {
      "name": "python"
    }
  },
  "cells": [
    {
      "cell_type": "markdown",
      "metadata": {
        "id": "view-in-github",
        "colab_type": "text"
      },
      "source": [
        "<a href=\"https://colab.research.google.com/github/AlimamHu/advertisment_priceSPEND_Impact_to_price/blob/main/linear_regrassion_research_ON_ADVERTISMENT_IMPACT_ON_SALING_.ipynb\" target=\"_parent\"><img src=\"https://colab.research.google.com/assets/colab-badge.svg\" alt=\"Open In Colab\"/></a>"
      ]
    },
    {
      "cell_type": "markdown",
      "metadata": {
        "id": "oeHKnieGvK5f"
      },
      "source": [
        "# linear regression better Understand ( and **research on the ML modules**)"
      ]
    },
    {
      "cell_type": "markdown",
      "metadata": {
        "id": "8MN6ACEVsTpK"
      },
      "source": [
        "* (importent note we did't use linear equation here we only use ***Gradient descent and cost function*** which are help a lot.)\n",
        "\n",
        " * **partial Derivatives , Derivatives** (weight , bias etc. also more name of this perameter .) Gradient descent give two perameter partial derivatives, and Derivatives  \n",
        " * After getting **two perameter** we are use in **cost function** and get the error .\n",
        " * `Train dataset ,  the two fucntion here use` ."
      ]
    },
    {
      "cell_type": "code",
      "metadata": {
        "id": "Z13d9dcrrjsU"
      },
      "source": [
        "%matplotlib inline\n",
        "import numpy as np\n",
        "import matplotlib.pyplot as plt\n",
        "import pandas as pd\n",
        "import seaborn as sns"
      ],
      "execution_count": 99,
      "outputs": []
    },
    {
      "cell_type": "code",
      "metadata": {
        "colab": {
          "base_uri": "https://localhost:8080/",
          "height": 296
        },
        "id": "Hrmn7jPwwuBV",
        "outputId": "59d7c1b3-49f7-4eaf-b2c2-0b722aa29fb0"
      },
      "source": [
        "\n",
        "\n",
        "rng = np.random.RandomState(4)\n",
        "radio_advertisment = 10 * rng.rand(50)\n",
        "sales = 2 * x - 5 + rng.randn(50)\n",
        "plt.scatter(x, y,alpha=0.6,color='r',);\n",
        "plt.xlabel('radio advertisment')\n",
        "plt.ylabel('sales of radio')\n"
      ],
      "execution_count": 69,
      "outputs": [
        {
          "output_type": "execute_result",
          "data": {
            "text/plain": [
              "Text(0, 0.5, 'sales of radio')"
            ]
          },
          "metadata": {
            "tags": []
          },
          "execution_count": 69
        },
        {
          "output_type": "display_data",
          "data": {
            "image/png": "[encoded data removed]",
            "text/plain": [
              "<Figure size 432x288 with 1 Axes>"
            ]
          },
          "metadata": {
            "tags": [],
            "needs_background": "light"
          }
        }
      ]
    },
    {
      "cell_type": "markdown",
      "metadata": {
        "id": "q4FR7prn3nm8"
      },
      "source": [
        "`here your notes when radio advertisment is increasing also increasing sales some time you observes this `\n",
        "\n",
        "` if you send particular amount of money so how much you sales .Now you want to predict`"
      ]
    },
    {
      "cell_type": "code",
      "metadata": {
        "colab": {
          "base_uri": "https://localhost:8080/"
        },
        "id": "CdLyYhSZBntJ",
        "outputId": "cda08709-dbd8-489d-fffc-caccc10de9a0"
      },
      "source": [
        "print('  send money on the radio advertisment \\n','max   -->',max(radio_advertisment),'\\nmin  -->',min(radio_advertisment),'\\n')\n",
        "print('  send money on the radio sales \\n','max   -->',max(sales),'\\nmin  -->',min(sales))"
      ],
      "execution_count": 84,
      "outputs": [
        {
          "output_type": "stream",
          "text": [
            "  send money on the radio advertisment \n",
            " max   --> 9.834006771753128 \n",
            "min  --> 0.06230255204589863 \n",
            "\n",
            "  send money on the radio sales \n",
            " max   --> 15.741514695351368 \n",
            "min  --> -5.599017971205835\n"
          ],
          "name": "stdout"
        }
      ]
    },
    {
      "cell_type": "code",
      "metadata": {
        "id": "y13hFyxs5YnP"
      },
      "source": [
        "data=pd.DataFrame({'radio_advertisment':radio_advertisment,'sales':sales})"
      ],
      "execution_count": 89,
      "outputs": []
    },
    {
      "cell_type": "code",
      "metadata": {
        "colab": {
          "base_uri": "https://localhost:8080/",
          "height": 143
        },
        "id": "3-AkAxJD5xb2",
        "outputId": "1ea98444-6dbd-4f84-830c-7f1ee5e1c419"
      },
      "source": [
        "data.head(3)"
      ],
      "execution_count": 90,
      "outputs": [
        {
          "output_type": "execute_result",
          "data": {
            "text/html": [
              "<div>\n",
              "<style scoped>\n",
              "    .dataframe tbody tr th:only-of-type {\n",
              "        vertical-align: middle;\n",
              "    }\n",
              "\n",
              "    .dataframe tbody tr th {\n",
              "        vertical-align: top;\n",
              "    }\n",
              "\n",
              "    .dataframe thead th {\n",
              "        text-align: right;\n",
              "    }\n",
              "</style>\n",
              "<table border=\"1\" class=\"dataframe\">\n",
              "  <thead>\n",
              "    <tr style=\"text-align: right;\">\n",
              "      <th></th>\n",
              "      <th>radio_advertisment</th>\n",
              "      <th>sales</th>\n",
              "    </tr>\n",
              "  </thead>\n",
              "  <tbody>\n",
              "    <tr>\n",
              "      <th>0</th>\n",
              "      <td>9.670298</td>\n",
              "      <td>14.064393</td>\n",
              "    </tr>\n",
              "    <tr>\n",
              "      <th>1</th>\n",
              "      <td>5.472322</td>\n",
              "      <td>6.741157</td>\n",
              "    </tr>\n",
              "    <tr>\n",
              "      <th>2</th>\n",
              "      <td>9.726844</td>\n",
              "      <td>13.309889</td>\n",
              "    </tr>\n",
              "  </tbody>\n",
              "</table>\n",
              "</div>"
            ],
            "text/plain": [
              "   radio_advertisment      sales\n",
              "0            9.670298  14.064393\n",
              "1            5.472322   6.741157\n",
              "2            9.726844  13.309889"
            ]
          },
          "metadata": {
            "tags": []
          },
          "execution_count": 90
        }
      ]
    },
    {
      "cell_type": "code",
      "metadata": {
        "colab": {
          "base_uri": "https://localhost:8080/",
          "height": 143
        },
        "id": "nE-9JwYWCxrB",
        "outputId": "5f3b837e-5f2a-4010-cc94-7d81de7e543e"
      },
      "source": [
        "data.tail(3)"
      ],
      "execution_count": 91,
      "outputs": [
        {
          "output_type": "execute_result",
          "data": {
            "text/html": [
              "<div>\n",
              "<style scoped>\n",
              "    .dataframe tbody tr th:only-of-type {\n",
              "        vertical-align: middle;\n",
              "    }\n",
              "\n",
              "    .dataframe tbody tr th {\n",
              "        vertical-align: top;\n",
              "    }\n",
              "\n",
              "    .dataframe thead th {\n",
              "        text-align: right;\n",
              "    }\n",
              "</style>\n",
              "<table border=\"1\" class=\"dataframe\">\n",
              "  <thead>\n",
              "    <tr style=\"text-align: right;\">\n",
              "      <th></th>\n",
              "      <th>radio_advertisment</th>\n",
              "      <th>sales</th>\n",
              "    </tr>\n",
              "  </thead>\n",
              "  <tbody>\n",
              "    <tr>\n",
              "      <th>47</th>\n",
              "      <td>2.536796</td>\n",
              "      <td>2.095998</td>\n",
              "    </tr>\n",
              "    <tr>\n",
              "      <th>48</th>\n",
              "      <td>5.547409</td>\n",
              "      <td>5.529942</td>\n",
              "    </tr>\n",
              "    <tr>\n",
              "      <th>49</th>\n",
              "      <td>6.249308</td>\n",
              "      <td>5.955688</td>\n",
              "    </tr>\n",
              "  </tbody>\n",
              "</table>\n",
              "</div>"
            ],
            "text/plain": [
              "    radio_advertisment     sales\n",
              "47            2.536796  2.095998\n",
              "48            5.547409  5.529942\n",
              "49            6.249308  5.955688"
            ]
          },
          "metadata": {
            "tags": []
          },
          "execution_count": 91
        }
      ]
    },
    {
      "cell_type": "code",
      "metadata": {
        "colab": {
          "base_uri": "https://localhost:8080/",
          "height": 300
        },
        "id": "s9tbWXNdDKUc",
        "outputId": "0d431f1b-e5fb-4295-eb7a-32ac55a9d61c"
      },
      "source": [
        "data.describe()"
      ],
      "execution_count": 92,
      "outputs": [
        {
          "output_type": "execute_result",
          "data": {
            "text/html": [
              "<div>\n",
              "<style scoped>\n",
              "    .dataframe tbody tr th:only-of-type {\n",
              "        vertical-align: middle;\n",
              "    }\n",
              "\n",
              "    .dataframe tbody tr th {\n",
              "        vertical-align: top;\n",
              "    }\n",
              "\n",
              "    .dataframe thead th {\n",
              "        text-align: right;\n",
              "    }\n",
              "</style>\n",
              "<table border=\"1\" class=\"dataframe\">\n",
              "  <thead>\n",
              "    <tr style=\"text-align: right;\">\n",
              "      <th></th>\n",
              "      <th>radio_advertisment</th>\n",
              "      <th>sales</th>\n",
              "    </tr>\n",
              "  </thead>\n",
              "  <tbody>\n",
              "    <tr>\n",
              "      <th>count</th>\n",
              "      <td>50.000000</td>\n",
              "      <td>50.000000</td>\n",
              "    </tr>\n",
              "    <tr>\n",
              "      <th>mean</th>\n",
              "      <td>5.188135</td>\n",
              "      <td>5.400854</td>\n",
              "    </tr>\n",
              "    <tr>\n",
              "      <th>std</th>\n",
              "      <td>2.925936</td>\n",
              "      <td>5.981549</td>\n",
              "    </tr>\n",
              "    <tr>\n",
              "      <th>min</th>\n",
              "      <td>0.062303</td>\n",
              "      <td>-5.599018</td>\n",
              "    </tr>\n",
              "    <tr>\n",
              "      <th>25%</th>\n",
              "      <td>2.531567</td>\n",
              "      <td>-0.124392</td>\n",
              "    </tr>\n",
              "    <tr>\n",
              "      <th>50%</th>\n",
              "      <td>5.365557</td>\n",
              "      <td>5.902591</td>\n",
              "    </tr>\n",
              "    <tr>\n",
              "      <th>75%</th>\n",
              "      <td>7.287391</td>\n",
              "      <td>9.667424</td>\n",
              "    </tr>\n",
              "    <tr>\n",
              "      <th>max</th>\n",
              "      <td>9.834007</td>\n",
              "      <td>15.741515</td>\n",
              "    </tr>\n",
              "  </tbody>\n",
              "</table>\n",
              "</div>"
            ],
            "text/plain": [
              "       radio_advertisment      sales\n",
              "count           50.000000  50.000000\n",
              "mean             5.188135   5.400854\n",
              "std              2.925936   5.981549\n",
              "min              0.062303  -5.599018\n",
              "25%              2.531567  -0.124392\n",
              "50%              5.365557   5.902591\n",
              "75%              7.287391   9.667424\n",
              "max              9.834007  15.741515"
            ]
          },
          "metadata": {
            "tags": []
          },
          "execution_count": 92
        }
      ]
    },
    {
      "cell_type": "code",
      "metadata": {
        "colab": {
          "base_uri": "https://localhost:8080/"
        },
        "id": "zQ44UHQtDgSf",
        "outputId": "c6266b55-74f1-4d27-9327-0f47ddba3f9f"
      },
      "source": [
        "data.info()"
      ],
      "execution_count": 93,
      "outputs": [
        {
          "output_type": "stream",
          "text": [
            "<class 'pandas.core.frame.DataFrame'>\n",
            "RangeIndex: 50 entries, 0 to 49\n",
            "Data columns (total 2 columns):\n",
            " #   Column              Non-Null Count  Dtype  \n",
            "---  ------              --------------  -----  \n",
            " 0   radio_advertisment  50 non-null     float64\n",
            " 1   sales               50 non-null     float64\n",
            "dtypes: float64(2)\n",
            "memory usage: 928.0 bytes\n"
          ],
          "name": "stdout"
        }
      ]
    },
    {
      "cell_type": "markdown",
      "metadata": {
        "id": "KDLCViqb4Z6b"
      },
      "source": [
        "# here use `S K L E A N `"
      ]
    },
    {
      "cell_type": "code",
      "metadata": {
        "id": "DL9wxsIYyHNO"
      },
      "source": [
        "from sklearn.linear_model import LinearRegression\n",
        "MODEL=LinearRegression()"
      ],
      "execution_count": 70,
      "outputs": []
    },
    {
      "cell_type": "code",
      "metadata": {
        "colab": {
          "base_uri": "https://localhost:8080/"
        },
        "id": "na6Znnpa2OPk",
        "outputId": "a41005d3-9234-4f7f-c82b-e1f4aa3797c4"
      },
      "source": [
        "MODEL.fit(radio_advertisment[:,np.newaxis],sales)"
      ],
      "execution_count": 73,
      "outputs": [
        {
          "output_type": "execute_result",
          "data": {
            "text/plain": [
              "LinearRegression(copy_X=True, fit_intercept=True, n_jobs=None, normalize=False)"
            ]
          },
          "metadata": {
            "tags": []
          },
          "execution_count": 73
        }
      ]
    },
    {
      "cell_type": "markdown",
      "metadata": {
        "id": "29jk1oy6D2GF"
      },
      "source": [
        "IF WE SPEND ` 3 rupes on radio advertisment` : `what is my price `\n",
        "\n",
        "---> `over MODEL do here this proscess` **finding the price**"
      ]
    },
    {
      "cell_type": "code",
      "metadata": {
        "colab": {
          "base_uri": "https://localhost:8080/"
        },
        "id": "innwwdi55GDq",
        "outputId": "9c9eef6e-81f5-4ba3-d407-1f7048070fb0"
      },
      "source": [
        "MODEL.predict([[3]])"
      ],
      "execution_count": 79,
      "outputs": [
        {
          "output_type": "execute_result",
          "data": {
            "text/plain": [
              "array([8.530515])"
            ]
          },
          "metadata": {
            "tags": []
          },
          "execution_count": 79
        }
      ]
    },
    {
      "cell_type": "code",
      "metadata": {
        "colab": {
          "base_uri": "https://localhost:8080/"
        },
        "id": "KIK0uOLOFOEK",
        "outputId": "b58cde99-d36e-4952-e28a-229d6d639729"
      },
      "source": [
        "print(MODEL.coef_,'\\n',MODEL.intercept_)\n"
      ],
      "execution_count": 96,
      "outputs": [
        {
          "output_type": "stream",
          "text": [
            "[2.01520668] \n",
            " -5.054309619437661\n"
          ],
          "name": "stdout"
        }
      ]
    },
    {
      "cell_type": "code",
      "metadata": {
        "colab": {
          "base_uri": "https://localhost:8080/",
          "height": 112
        },
        "id": "K0F7HQoD5zgk",
        "outputId": "b29fcb1c-d373-426f-e582-399d15981ccf"
      },
      "source": [
        "data.corr()"
      ],
      "execution_count": 98,
      "outputs": [
        {
          "output_type": "execute_result",
          "data": {
            "text/html": [
              "<div>\n",
              "<style scoped>\n",
              "    .dataframe tbody tr th:only-of-type {\n",
              "        vertical-align: middle;\n",
              "    }\n",
              "\n",
              "    .dataframe tbody tr th {\n",
              "        vertical-align: top;\n",
              "    }\n",
              "\n",
              "    .dataframe thead th {\n",
              "        text-align: right;\n",
              "    }\n",
              "</style>\n",
              "<table border=\"1\" class=\"dataframe\">\n",
              "  <thead>\n",
              "    <tr style=\"text-align: right;\">\n",
              "      <th></th>\n",
              "      <th>radio_advertisment</th>\n",
              "      <th>sales</th>\n",
              "    </tr>\n",
              "  </thead>\n",
              "  <tbody>\n",
              "    <tr>\n",
              "      <th>radio_advertisment</th>\n",
              "      <td>1.000000</td>\n",
              "      <td>0.985759</td>\n",
              "    </tr>\n",
              "    <tr>\n",
              "      <th>sales</th>\n",
              "      <td>0.985759</td>\n",
              "      <td>1.000000</td>\n",
              "    </tr>\n",
              "  </tbody>\n",
              "</table>\n",
              "</div>"
            ],
            "text/plain": [
              "                    radio_advertisment     sales\n",
              "radio_advertisment            1.000000  0.985759\n",
              "sales                         0.985759  1.000000"
            ]
          },
          "metadata": {
            "tags": []
          },
          "execution_count": 98
        }
      ]
    },
    {
      "cell_type": "code",
      "metadata": {
        "colab": {
          "base_uri": "https://localhost:8080/",
          "height": 287
        },
        "id": "FVBJft-rGLTv",
        "outputId": "4eb9a513-fc66-48f2-948d-0fd79b6a666c"
      },
      "source": [
        "sns.heatmap(data.corr(),cmap='Blues',annot=True)"
      ],
      "execution_count": 102,
      "outputs": [
        {
          "output_type": "execute_result",
          "data": {
            "text/plain": [
              "<matplotlib.axes._subplots.AxesSubplot at 0x7f539c8ee350>"
            ]
          },
          "metadata": {
            "tags": []
          },
          "execution_count": 102
        },
        {
          "output_type": "display_data",
          "data": {
            "image/png": "[encoded data removed]",
            "text/plain": [
              "<Figure size 432x288 with 2 Axes>"
            ]
          },
          "metadata": {
            "tags": [],
            "needs_background": "light"
          }
        }
      ]
    },
    {
      "cell_type": "code",
      "metadata": {
        "colab": {
          "base_uri": "https://localhost:8080/",
          "height": 391
        },
        "id": "JXpob3R-Gs8l",
        "outputId": "bc860595-3946-4b11-a97b-c218dea21cb9"
      },
      "source": [
        "sns.pairplot(data)"
      ],
      "execution_count": 103,
      "outputs": [
        {
          "output_type": "execute_result",
          "data": {
            "text/plain": [
              "<seaborn.axisgrid.PairGrid at 0x7f539c821f50>"
            ]
          },
          "metadata": {
            "tags": []
          },
          "execution_count": 103
        },
        {
          "output_type": "display_data",
          "data": {
            "image/png": "[encoded data removed]",
            "text/plain": [
              "<Figure size 360x360 with 6 Axes>"
            ]
          },
          "metadata": {
            "tags": [],
            "needs_background": "light"
          }
        }
      ]
    },
    {
      "cell_type": "code",
      "metadata": {
        "id": "rfuGv2d_Hmjs"
      },
      "source": [
        "from sklearn import metrics"
      ],
      "execution_count": 104,
      "outputs": []
    },
    {
      "cell_type": "code",
      "metadata": {
        "id": "INTmfRrOH_yy"
      },
      "source": [
        "metrics.mean_squared_error()"
      ],
      "execution_count": null,
      "outputs": []
    },
    {
      "cell_type": "code",
      "metadata": {
        "id": "_QY_DAc0Kbxm"
      },
      "source": [
        "rng1=np.random.RandomState(8)\n",
        "radio_advertisment_test = 10 * rng1.rand(50)\n",
        "sales_test = 2 * x - 5 + rng1.randn(50)"
      ],
      "execution_count": 110,
      "outputs": []
    },
    {
      "cell_type": "code",
      "metadata": {
        "colab": {
          "base_uri": "https://localhost:8080/",
          "height": 282
        },
        "id": "62SQgXzXKs4K",
        "outputId": "e8af46a8-9267-43b0-9383-6a375058ae06"
      },
      "source": [
        "plt.scatter(radio_advertisment_test,sales_test,)\n",
        "plt.scatter(radio_advertisment,sales)\n",
        "plt.legend(['for test','for train'])"
      ],
      "execution_count": 143,
      "outputs": [
        {
          "output_type": "execute_result",
          "data": {
            "text/plain": [
              "<matplotlib.legend.Legend at 0x7f539ad6afd0>"
            ]
          },
          "metadata": {
            "tags": []
          },
          "execution_count": 143
        },
        {
          "output_type": "display_data",
          "data": {
            "image/png": "[encoded data removed]",
            "text/plain": [
              "<Figure size 432x288 with 1 Axes>"
            ]
          },
          "metadata": {
            "tags": [],
            "needs_background": "light"
          }
        }
      ]
    },
    {
      "cell_type": "code",
      "metadata": {
        "id": "uc500j7PK1X_"
      },
      "source": [
        "data2_test=pd.DataFrame({'radio_advertisment':radio_advertisment_test,'sales':sales_test})"
      ],
      "execution_count": 114,
      "outputs": []
    },
    {
      "cell_type": "code",
      "metadata": {
        "colab": {
          "base_uri": "https://localhost:8080/",
          "height": 143
        },
        "id": "IUgOURrCLqi_",
        "outputId": "6cf274a6-5f0a-4da4-d3be-98b710267ff3"
      },
      "source": [
        "data2_test.head(3)"
      ],
      "execution_count": 116,
      "outputs": [
        {
          "output_type": "execute_result",
          "data": {
            "text/html": [
              "<div>\n",
              "<style scoped>\n",
              "    .dataframe tbody tr th:only-of-type {\n",
              "        vertical-align: middle;\n",
              "    }\n",
              "\n",
              "    .dataframe tbody tr th {\n",
              "        vertical-align: top;\n",
              "    }\n",
              "\n",
              "    .dataframe thead th {\n",
              "        text-align: right;\n",
              "    }\n",
              "</style>\n",
              "<table border=\"1\" class=\"dataframe\">\n",
              "  <thead>\n",
              "    <tr style=\"text-align: right;\">\n",
              "      <th></th>\n",
              "      <th>radio_advertisment</th>\n",
              "      <th>sales</th>\n",
              "    </tr>\n",
              "  </thead>\n",
              "  <tbody>\n",
              "    <tr>\n",
              "      <th>0</th>\n",
              "      <td>8.734294</td>\n",
              "      <td>14.815115</td>\n",
              "    </tr>\n",
              "    <tr>\n",
              "      <th>1</th>\n",
              "      <td>9.685407</td>\n",
              "      <td>4.780054</td>\n",
              "    </tr>\n",
              "    <tr>\n",
              "      <th>2</th>\n",
              "      <td>8.691945</td>\n",
              "      <td>13.952778</td>\n",
              "    </tr>\n",
              "  </tbody>\n",
              "</table>\n",
              "</div>"
            ],
            "text/plain": [
              "   radio_advertisment      sales\n",
              "0            8.734294  14.815115\n",
              "1            9.685407   4.780054\n",
              "2            8.691945  13.952778"
            ]
          },
          "metadata": {
            "tags": []
          },
          "execution_count": 116
        }
      ]
    },
    {
      "cell_type": "code",
      "metadata": {
        "colab": {
          "base_uri": "https://localhost:8080/",
          "height": 143
        },
        "id": "rJHatiAqLv1h",
        "outputId": "76b28f03-f73a-42de-d5a1-ef3a89802d87"
      },
      "source": [
        "data2_test.tail(3)"
      ],
      "execution_count": 117,
      "outputs": [
        {
          "output_type": "execute_result",
          "data": {
            "text/html": [
              "<div>\n",
              "<style scoped>\n",
              "    .dataframe tbody tr th:only-of-type {\n",
              "        vertical-align: middle;\n",
              "    }\n",
              "\n",
              "    .dataframe tbody tr th {\n",
              "        vertical-align: top;\n",
              "    }\n",
              "\n",
              "    .dataframe thead th {\n",
              "        text-align: right;\n",
              "    }\n",
              "</style>\n",
              "<table border=\"1\" class=\"dataframe\">\n",
              "  <thead>\n",
              "    <tr style=\"text-align: right;\">\n",
              "      <th></th>\n",
              "      <th>radio_advertisment</th>\n",
              "      <th>sales</th>\n",
              "    </tr>\n",
              "  </thead>\n",
              "  <tbody>\n",
              "    <tr>\n",
              "      <th>47</th>\n",
              "      <td>5.839645</td>\n",
              "      <td>0.074228</td>\n",
              "    </tr>\n",
              "    <tr>\n",
              "      <th>48</th>\n",
              "      <td>0.389123</td>\n",
              "      <td>6.429840</td>\n",
              "    </tr>\n",
              "    <tr>\n",
              "      <th>49</th>\n",
              "      <td>4.464229</td>\n",
              "      <td>7.873416</td>\n",
              "    </tr>\n",
              "  </tbody>\n",
              "</table>\n",
              "</div>"
            ],
            "text/plain": [
              "    radio_advertisment     sales\n",
              "47            5.839645  0.074228\n",
              "48            0.389123  6.429840\n",
              "49            4.464229  7.873416"
            ]
          },
          "metadata": {
            "tags": []
          },
          "execution_count": 117
        }
      ]
    },
    {
      "cell_type": "code",
      "metadata": {
        "id": "y0I1uwbYLy3A"
      },
      "source": [
        "sales_getby_model=MODEL.predict(radio_advertisment_test[:,np.newaxis])"
      ],
      "execution_count": 120,
      "outputs": []
    },
    {
      "cell_type": "code",
      "metadata": {
        "colab": {
          "base_uri": "https://localhost:8080/",
          "height": 279
        },
        "id": "wHDCkFcTMcLD",
        "outputId": "5777fc00-4715-4028-dde6-b342051679fe"
      },
      "source": [
        "plt.scatter(radio_advertisment,sales)\n",
        "plt.xlabel('radio advertisment')\n",
        "plt.ylabel('sales')\n",
        "plt.plot(radio_advertisment_test,sales_getby_model)\n",
        "plt.plot(radio_advertisment_test,sales_test,'s')\n",
        "plt.show()"
      ],
      "execution_count": 126,
      "outputs": [
        {
          "output_type": "display_data",
          "data": {
            "image/png": "[encoded data removed]",
            "text/plain": [
              "<Figure size 432x288 with 1 Axes>"
            ]
          },
          "metadata": {
            "tags": [],
            "needs_background": "light"
          }
        }
      ]
    },
    {
      "cell_type": "code",
      "metadata": {
        "colab": {
          "base_uri": "https://localhost:8080/",
          "height": 282
        },
        "id": "H0Oq4NcPMoX_",
        "outputId": "29f91646-0259-4e38-a794-576b21a649bd"
      },
      "source": [
        "data2_test.plot()"
      ],
      "execution_count": 127,
      "outputs": [
        {
          "output_type": "execute_result",
          "data": {
            "text/plain": [
              "<matplotlib.axes._subplots.AxesSubplot at 0x7f539ae48c50>"
            ]
          },
          "metadata": {
            "tags": []
          },
          "execution_count": 127
        },
        {
          "output_type": "display_data",
          "data": {
            "image/png": "[encoded data removed]",
            "text/plain": [
              "<Figure size 432x288 with 1 Axes>"
            ]
          },
          "metadata": {
            "tags": [],
            "needs_background": "light"
          }
        }
      ]
    },
    {
      "cell_type": "code",
      "metadata": {
        "colab": {
          "base_uri": "https://localhost:8080/"
        },
        "id": "HlghO5VXH2oO",
        "outputId": "e16b7120-3df6-4b68-ee64-76545f87237d"
      },
      "source": [
        "metrics.mean_absolute_error(sales_test,sales_getby_model)   # (y real values & y_predicted values)"
      ],
      "execution_count": 130,
      "outputs": [
        {
          "output_type": "execute_result",
          "data": {
            "text/plain": [
              "6.54374794073187"
            ]
          },
          "metadata": {
            "tags": []
          },
          "execution_count": 130
        }
      ]
    },
    {
      "cell_type": "code",
      "metadata": {
        "colab": {
          "base_uri": "https://localhost:8080/"
        },
        "id": "aWLuc3y2U3Wn",
        "outputId": "e017dff9-71c6-4a80-b630-5fd1b0153f17"
      },
      "source": [
        "metrics.mean_absolute_error(sales_getby_model,sales_test)   # (y real values & y_predicted values) MAE"
      ],
      "execution_count": 131,
      "outputs": [
        {
          "output_type": "execute_result",
          "data": {
            "text/plain": [
              "6.54374794073187"
            ]
          },
          "metadata": {
            "tags": []
          },
          "execution_count": 131
        }
      ]
    },
    {
      "cell_type": "code",
      "metadata": {
        "colab": {
          "base_uri": "https://localhost:8080/"
        },
        "id": "rWP8MbeXOZ8p",
        "outputId": "4d6fb887-c0dc-418b-cbce-e029bcbe5474"
      },
      "source": [
        "metrics.mean_squared_error(sales_test,sales_getby_model) # MSE"
      ],
      "execution_count": 140,
      "outputs": [
        {
          "output_type": "execute_result",
          "data": {
            "text/plain": [
              "60.70063575815082"
            ]
          },
          "metadata": {
            "tags": []
          },
          "execution_count": 140
        }
      ]
    },
    {
      "cell_type": "code",
      "metadata": {
        "colab": {
          "base_uri": "https://localhost:8080/"
        },
        "id": "AAUy7abtXuOC",
        "outputId": "3f4a67c6-0ec6-4c6e-affe-c7bfdbd51a16"
      },
      "source": [
        "np.sqrt(metrics.mean_squared_error(sales_test,sales_getby_model))   # RMSE"
      ],
      "execution_count": 141,
      "outputs": [
        {
          "output_type": "execute_result",
          "data": {
            "text/plain": [
              "7.791061272904406"
            ]
          },
          "metadata": {
            "tags": []
          },
          "execution_count": 141
        }
      ]
    },
    {
      "cell_type": "code",
      "metadata": {
        "id": "actfHsJQXxK5"
      },
      "source": [
        ""
      ],
      "execution_count": null,
      "outputs": []
    }
  ]
}